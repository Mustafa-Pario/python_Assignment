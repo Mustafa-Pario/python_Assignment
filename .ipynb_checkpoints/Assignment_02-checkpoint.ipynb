{
 "cells": [
  {
   "cell_type": "markdown",
   "id": "0c04bbb3-c3d4-4ade-9291-98518f126836",
   "metadata": {},
   "source": [
    "1. Write a program that accepts a string from user. Your program should count and display number of vowels in that string."
   ]
  },
  {
   "cell_type": "code",
   "execution_count": 16,
   "id": "8777953e-6976-470f-931a-d577809d6d3c",
   "metadata": {},
   "outputs": [
    {
     "name": "stdin",
     "output_type": "stream",
     "text": [
      "Enter a string:  aeiou\n"
     ]
    }
   ],
   "source": [
    "user_input = str(input(\"Enter a string: \"))"
   ]
  },
  {
   "cell_type": "code",
   "execution_count": 5,
   "id": "d17963d7-d63a-41f4-a1a0-214118ac28f9",
   "metadata": {},
   "outputs": [],
   "source": [
    "vowels = \"aeiouAEIOU\""
   ]
  },
  {
   "cell_type": "code",
   "execution_count": 6,
   "id": "33318bc7-b086-482d-85bd-c10f19e75e91",
   "metadata": {},
   "outputs": [],
   "source": [
    "vowel_count = 0"
   ]
  },
  {
   "cell_type": "code",
   "execution_count": 7,
   "id": "a69d049b-82bb-4ac5-99d1-c22e92f053be",
   "metadata": {},
   "outputs": [],
   "source": [
    "for char in user_input:\n",
    "    if char in vowels:\n",
    "        vowel_count += 1"
   ]
  },
  {
   "cell_type": "code",
   "execution_count": 17,
   "id": "1811368c-0bf5-40a6-9d4e-3558bc61bb0f",
   "metadata": {},
   "outputs": [
    {
     "name": "stdout",
     "output_type": "stream",
     "text": [
      "Number of vowels in the string: 3\n"
     ]
    }
   ],
   "source": [
    "# Display the number of vowels\n",
    "print(\"Number of vowels in the string:\", vowel_count)"
   ]
  },
  {
   "cell_type": "markdown",
   "id": "72d47258-0d9c-41e1-8ff9-2f1cf047101f",
   "metadata": {},
   "source": [
    "2. Write a program that reads a string from keyboard and display: * The number of uppercase letters in the string\n",
    "* The number of lowercase letters in the string\n",
    "* The number of digits in the string\n",
    "* The number of whitespace characters in the string"
   ]
  },
  {
   "cell_type": "code",
   "execution_count": 19,
   "id": "2169f75a-31af-4e0e-ab56-72099f62c679",
   "metadata": {},
   "outputs": [
    {
     "name": "stdin",
     "output_type": "stream",
     "text": [
      "Enter a string:  Ghulam Mustafa\n"
     ]
    }
   ],
   "source": [
    "userInput = str(input(\"Enter a string: \"))"
   ]
  },
  {
   "cell_type": "code",
   "execution_count": 20,
   "id": "07b6f8d1-9bd4-40e9-98d8-80f1bb513515",
   "metadata": {},
   "outputs": [],
   "source": [
    "# Initialize counters\n",
    "uppercase_count = 0\n",
    "lowercase_count = 0\n",
    "digit_count = 0\n",
    "whitespace_count = 0\n",
    "\n",
    "# Loop through each character in the string\n",
    "for char in user_input:\n",
    "    if char.isupper():\n",
    "        uppercase_count += 1\n",
    "    elif char.islower():\n",
    "        lowercase_count += 1\n",
    "    elif char.isdigit():\n",
    "        digit_count += 1\n",
    "    elif char.isspace():\n",
    "        whitespace_count += 1"
   ]
  },
  {
   "cell_type": "code",
   "execution_count": 21,
   "id": "0bd539a8-78a8-4655-965a-9eabc939dce4",
   "metadata": {},
   "outputs": [
    {
     "name": "stdout",
     "output_type": "stream",
     "text": [
      "Number of uppercase letters: 0\n",
      "Number of lowercase letters: 5\n",
      "Number of digits: 0\n",
      "Number of whitespace characters: 0\n"
     ]
    }
   ],
   "source": [
    "print(\"Number of uppercase letters:\", uppercase_count)\n",
    "print(\"Number of lowercase letters:\", lowercase_count)\n",
    "print(\"Number of digits:\", digit_count)\n",
    "print(\"Number of whitespace characters:\", whitespace_count)"
   ]
  },
  {
   "cell_type": "markdown",
   "id": "cf84ab1e-9284-43c4-91c2-07401e5d7600",
   "metadata": {},
   "source": [
    "3. Write a Python program that accepts a string from user. Your program should create and display a new string where the first and last characters have been exchanged."
   ]
  },
  {
   "cell_type": "code",
   "execution_count": 24,
   "id": "ce9c5a52-d233-49ee-8467-6e53a538ec7c",
   "metadata": {},
   "outputs": [
    {
     "name": "stdin",
     "output_type": "stream",
     "text": [
      "Enter a string:  PAkistan\n"
     ]
    }
   ],
   "source": [
    "text = str(input(\"Enter a string: \"))"
   ]
  },
  {
   "cell_type": "code",
   "execution_count": 26,
   "id": "00d1d439-4d50-4a73-9aad-5ea7710ec668",
   "metadata": {},
   "outputs": [
    {
     "name": "stdout",
     "output_type": "stream",
     "text": [
      "New string: nAkistaP\n"
     ]
    }
   ],
   "source": [
    "# Check if the string has less than 2 characters\n",
    "if len(text) < 2:\n",
    "    # If it's too short, we can't swap, so just print the same string\n",
    "    new_text = text\n",
    "else:\n",
    "    # Get the first character\n",
    "    first = text[0]\n",
    "    # Get the last character\n",
    "    last = text[-1]\n",
    "    # Get the middle part (excluding first and last characters)\n",
    "    middle = text[1:-1]\n",
    "    # Create new string with last + middle + first\n",
    "    new_text = last + middle + first\n",
    "\n",
    "# Show the result\n",
    "print(\"New string:\", new_text)\n"
   ]
  },
  {
   "cell_type": "markdown",
   "id": "49fd4b47-4758-498f-a81c-dff10c3b9b51",
   "metadata": {},
   "source": [
    "4. Write a Python program that accepts a string from user. Your program should create a new string in reverse of first string and display it."
   ]
  },
  {
   "cell_type": "code",
   "execution_count": 29,
   "id": "9391a497-b961-4a56-9093-290e94ab337c",
   "metadata": {},
   "outputs": [
    {
     "name": "stdin",
     "output_type": "stream",
     "text": [
      "Enter a string:  umair\n"
     ]
    },
    {
     "name": "stdout",
     "output_type": "stream",
     "text": [
      "Reversed string: riamu\n"
     ]
    }
   ],
   "source": [
    "# Ask the user to enter a string\n",
    "text = input(\"Enter a string: \")\n",
    "\n",
    "# Reverse the string using slicing\n",
    "reversed_text = text[::-1]\n",
    "\n",
    "# Show the reversed string\n",
    "print(\"Reversed string:\", reversed_text)\n"
   ]
  },
  {
   "cell_type": "markdown",
   "id": "f670c4f2-545b-4884-86c7-fd9266736841",
   "metadata": {},
   "source": [
    "5. Write a Python program that accepts a string from user. Your program should create a new string by shifting one position to left."
   ]
  },
  {
   "cell_type": "code",
   "execution_count": 30,
   "id": "cf03a54c-ab68-4420-90eb-c3f3fad9f430",
   "metadata": {},
   "outputs": [
    {
     "name": "stdin",
     "output_type": "stream",
     "text": [
      "Enter a string:  hello\n"
     ]
    },
    {
     "name": "stdout",
     "output_type": "stream",
     "text": [
      "Shifted string: elloh\n"
     ]
    }
   ],
   "source": [
    "# Get input from user\n",
    "text = input(\"Enter a string: \")\n",
    "\n",
    "# Check if the string is long enough to shift\n",
    "if len(text) <= 1:\n",
    "    shifted = text  # No change if too short\n",
    "else:\n",
    "    # Shift left by taking from second character to end + first character\n",
    "    shifted = text[1:] + text[0]\n",
    "\n",
    "# Print the result\n",
    "print(\"Shifted string:\", shifted)\n"
   ]
  },
  {
   "cell_type": "markdown",
   "id": "87508a3b-325a-4ba9-8bd6-092d09514c10",
   "metadata": {},
   "source": [
    "6. Write a program that asks the user to input his name and print its initials. Assuming that the user always types first name, middle name and last name and does not include any unnecessary spaces."
   ]
  },
  {
   "cell_type": "code",
   "execution_count": 31,
   "id": "bf12a155-368c-4000-ab4c-708276fdb9b1",
   "metadata": {},
   "outputs": [
    {
     "name": "stdin",
     "output_type": "stream",
     "text": [
      "Enter your first, middle, and last name:  Ghulam Mustafa Pario\n"
     ]
    },
    {
     "name": "stdout",
     "output_type": "stream",
     "text": [
      "Your initials are: GMP\n"
     ]
    }
   ],
   "source": [
    "# Ask the user to enter their full name\n",
    "full_name = input(\"Enter your first, middle, and last name: \")\n",
    "\n",
    "# Split the name into parts\n",
    "name_parts = full_name.split()\n",
    "\n",
    "# Get the first letter of each part and make it uppercase\n",
    "initials = name_parts[0][0].upper() + name_parts[1][0].upper() + name_parts[2][0].upper()\n",
    "\n",
    "# Print the initials\n",
    "print(\"Your initials are:\", initials)\n"
   ]
  },
  {
   "cell_type": "markdown",
   "id": "a8ef976d-df3c-4763-8312-cec7b7202565",
   "metadata": {},
   "source": [
    "7. A palindrome is a string that reads the same backward as forward. For example, the words dad, madam and radar are all palindromes. Write a programs that determines whether the string is a palindrome.\n",
    "Note: do not use reverse() method"
   ]
  },
  {
   "cell_type": "code",
   "execution_count": 34,
   "id": "0c2d0b60-d23d-40d4-9272-281d7cd020c6",
   "metadata": {},
   "outputs": [
    {
     "name": "stdin",
     "output_type": "stream",
     "text": [
      "Enter a string:  pakistan zindabad\n"
     ]
    },
    {
     "name": "stdout",
     "output_type": "stream",
     "text": [
      "The string is not a palindrome.\n"
     ]
    }
   ],
   "source": [
    "# Ask the user to enter a string\n",
    "text = input(\"Enter a string: \")\n",
    "\n",
    "# Remove spaces and convert to lowercase for accurate comparison (optional)\n",
    "text = text.replace(\" \", \"\").lower()\n",
    "\n",
    "# Set a flag to True initially\n",
    "is_palindrome = True\n",
    "\n",
    "# Compare characters from front and back\n",
    "for i in range(len(text) // 2):\n",
    "    if text[i] != text[-(i + 1)]:\n",
    "        is_palindrome = False\n",
    "        break\n",
    "\n",
    "# Print the result\n",
    "if is_palindrome:\n",
    "    print(\"The string is a palindrome.\")\n",
    "else:\n",
    "    print(\"The string is not a palindrome.\")\n"
   ]
  },
  {
   "cell_type": "markdown",
   "id": "9b402875-f5b8-4eaa-814a-80958a831539",
   "metadata": {},
   "source": [
    "8. Write a program that display following output: SHIFT\n",
    "HIFTS\n",
    "IFTSH\n",
    "FTSHI TSHIF SHIFT"
   ]
  },
  {
   "cell_type": "code",
   "execution_count": 35,
   "id": "c464ddee-fc90-48fc-8a06-0d4a6d691fce",
   "metadata": {},
   "outputs": [
    {
     "name": "stdout",
     "output_type": "stream",
     "text": [
      "SHIFT\n",
      "HIFTS\n",
      "IFTSH\n",
      "FTSHI\n",
      "TSHIF\n",
      "SHIFT\n"
     ]
    }
   ],
   "source": [
    "# The original string\n",
    "text = \"SHIFT\"\n",
    "\n",
    "# Loop to print rotated versions\n",
    "for i in range(len(text) + 1):\n",
    "    # Shift the string to the left by i positions\n",
    "    shifted = text[i:] + text[:i]\n",
    "    print(shifted)\n"
   ]
  },
  {
   "cell_type": "markdown",
   "id": "1c5b0854-138e-4db4-be8c-e56548a212c4",
   "metadata": {},
   "source": [
    "9. Write a program in python that accepts a string to setup a passwords. Your entered password must meet the following requirements:\n",
    "The password must be at least eight characters long. It must contain at least one uppercase letter.\n",
    "It must contain at least one lowercase letter.\n",
    "It must contain at least one numeric digit.\n",
    "Your program should should perform this validation."
   ]
  },
  {
   "cell_type": "code",
   "execution_count": 36,
   "id": "b2c71e0f-3e2f-49a0-a617-2cc9173b13e8",
   "metadata": {},
   "outputs": [
    {
     "name": "stdin",
     "output_type": "stream",
     "text": [
      "Enter a password:  pakistan\n"
     ]
    },
    {
     "name": "stdout",
     "output_type": "stream",
     "text": [
      "Password is invalid. Make sure it has at least:\n",
      "- One uppercase letter\n",
      "- One lowercase letter\n",
      "- One number\n"
     ]
    }
   ],
   "source": [
    "# Ask the user to enter a password\n",
    "password = input(\"Enter a password: \")\n",
    "\n",
    "# Initialize flags\n",
    "has_upper = False\n",
    "has_lower = False\n",
    "has_digit = False\n",
    "\n",
    "# Check the length first\n",
    "if len(password) >= 8:\n",
    "    # Check each character in the password\n",
    "    for char in password:\n",
    "        if char.isupper():\n",
    "            has_upper = True\n",
    "        elif char.islower():\n",
    "            has_lower = True\n",
    "        elif char.isdigit():\n",
    "            has_digit = True\n",
    "\n",
    "    # Check if all conditions are met\n",
    "    if has_upper and has_lower and has_digit:\n",
    "        print(\"Password is valid.\")\n",
    "    else:\n",
    "        print(\"Password is invalid. Make sure it has at least:\")\n",
    "        print(\"- One uppercase letter\")\n",
    "        print(\"- One lowercase letter\")\n",
    "        print(\"- One number\")\n",
    "else:\n",
    "    print(\"Password is too short. It must be at least 8 characters long.\")\n"
   ]
  },
  {
   "cell_type": "code",
   "execution_count": null,
   "id": "43de71bf-934a-4dd1-ac8c-30ae56aa51e3",
   "metadata": {},
   "outputs": [],
   "source": []
  }
 ],
 "metadata": {
  "kernelspec": {
   "display_name": "Python [conda env:base] *",
   "language": "python",
   "name": "conda-base-py"
  },
  "language_info": {
   "codemirror_mode": {
    "name": "ipython",
    "version": 3
   },
   "file_extension": ".py",
   "mimetype": "text/x-python",
   "name": "python",
   "nbconvert_exporter": "python",
   "pygments_lexer": "ipython3",
   "version": "3.13.5"
  }
 },
 "nbformat": 4,
 "nbformat_minor": 5
}
