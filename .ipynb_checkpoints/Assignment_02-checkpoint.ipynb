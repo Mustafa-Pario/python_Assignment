{
 "cells": [
  {
   "cell_type": "markdown",
   "id": "0c04bbb3-c3d4-4ade-9291-98518f126836",
   "metadata": {},
   "source": [
    "1. Write a program that accepts a string from user. Your program should count and display number of vowels in that string."
   ]
  },
  {
   "cell_type": "code",
   "execution_count": 27,
   "id": "8777953e-6976-470f-931a-d577809d6d3c",
   "metadata": {},
   "outputs": [
    {
     "ename": "TypeError",
     "evalue": "'str' object is not callable",
     "output_type": "error",
     "traceback": [
      "\u001b[0;31m---------------------------------------------------------------------------\u001b[0m",
      "\u001b[0;31mTypeError\u001b[0m                                 Traceback (most recent call last)",
      "Cell \u001b[0;32mIn[27], line 2\u001b[0m\n\u001b[1;32m      1\u001b[0m \u001b[38;5;66;03m# Accept input from the user\u001b[39;00m\n\u001b[0;32m----> 2\u001b[0m user_input \u001b[38;5;241m=\u001b[39m \u001b[38;5;28minput\u001b[39m(\u001b[38;5;124m\"\u001b[39m\u001b[38;5;124mEnter a string: \u001b[39m\u001b[38;5;124m\"\u001b[39m)\n",
      "\u001b[0;31mTypeError\u001b[0m: 'str' object is not callable"
     ]
    }
   ],
   "source": [
    "# Accept input from the user\n",
    "user_input = input(\"Enter a string: \")"
   ]
  },
  {
   "cell_type": "code",
   "execution_count": 13,
   "id": "d17963d7-d63a-41f4-a1a0-214118ac28f9",
   "metadata": {},
   "outputs": [],
   "source": [
    "# Define vowels (both lowercase and uppercase)\n",
    "vowels = \"aeiouAEIOU\""
   ]
  },
  {
   "cell_type": "code",
   "execution_count": null,
   "id": "33318bc7-b086-482d-85bd-c10f19e75e91",
   "metadata": {},
   "outputs": [],
   "source": [
    "\n",
    "# Initialize a counter\n",
    "vowel_count = 0\n"
   ]
  },
  {
   "cell_type": "code",
   "execution_count": null,
   "id": "a69d049b-82bb-4ac5-99d1-c22e92f053be",
   "metadata": {},
   "outputs": [],
   "source": [
    "# Loop through each character in the string\n",
    "for char in user_input:\n",
    "    if char in vowels:\n",
    "        vowel_count += 1"
   ]
  },
  {
   "cell_type": "code",
   "execution_count": null,
   "id": "1811368c-0bf5-40a6-9d4e-3558bc61bb0f",
   "metadata": {},
   "outputs": [],
   "source": [
    "# Display the number of vowels\n",
    "print(\"Number of vowels in the string:\", vowel_count)"
   ]
  }
 ],
 "metadata": {
  "kernelspec": {
   "display_name": "Python [conda env:base] *",
   "language": "python",
   "name": "conda-base-py"
  },
  "language_info": {
   "codemirror_mode": {
    "name": "ipython",
    "version": 3
   },
   "file_extension": ".py",
   "mimetype": "text/x-python",
   "name": "python",
   "nbconvert_exporter": "python",
   "pygments_lexer": "ipython3",
   "version": "3.13.5"
  }
 },
 "nbformat": 4,
 "nbformat_minor": 5
}
