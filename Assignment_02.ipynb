{
 "cells": [
  {
   "cell_type": "markdown",
   "id": "0c04bbb3-c3d4-4ade-9291-98518f126836",
   "metadata": {},
   "source": [
    "1. Write a program that accepts a string from user. Your program should count and display number of vowels in that string."
   ]
  },
  {
   "cell_type": "code",
   "execution_count": 16,
   "id": "8777953e-6976-470f-931a-d577809d6d3c",
   "metadata": {},
   "outputs": [
    {
     "name": "stdin",
     "output_type": "stream",
     "text": [
      "Enter a string:  aeiou\n"
     ]
    }
   ],
   "source": [
    "user_input = str(input(\"Enter a string: \"))"
   ]
  },
  {
   "cell_type": "code",
   "execution_count": 5,
   "id": "d17963d7-d63a-41f4-a1a0-214118ac28f9",
   "metadata": {},
   "outputs": [],
   "source": [
    "vowels = \"aeiouAEIOU\""
   ]
  },
  {
   "cell_type": "code",
   "execution_count": 6,
   "id": "33318bc7-b086-482d-85bd-c10f19e75e91",
   "metadata": {},
   "outputs": [],
   "source": [
    "vowel_count = 0"
   ]
  },
  {
   "cell_type": "code",
   "execution_count": 7,
   "id": "a69d049b-82bb-4ac5-99d1-c22e92f053be",
   "metadata": {},
   "outputs": [],
   "source": [
    "for char in user_input:\n",
    "    if char in vowels:\n",
    "        vowel_count += 1"
   ]
  },
  {
   "cell_type": "code",
   "execution_count": 9,
   "id": "1811368c-0bf5-40a6-9d4e-3558bc61bb0f",
   "metadata": {},
   "outputs": [
    {
     "name": "stdout",
     "output_type": "stream",
     "text": [
      "Number of vowels in the string: 3\n"
     ]
    }
   ],
   "source": [
    "# Display the number of vowels\n",
    "print(\"Number of vowels in the string:\", vowel_count)"
   ]
  },
  {
   "cell_type": "markdown",
   "id": "72d47258-0d9c-41e1-8ff9-2f1cf047101f",
   "metadata": {},
   "source": [
    "2. Write a program that reads a string from keyboard and display: * The number of uppercase letters in the string\n",
    "* The number of lowercase letters in the string\n",
    "* The number of digits in the string\n",
    "* The number of whitespace characters in the string"
   ]
  },
  {
   "cell_type": "code",
   "execution_count": 12,
   "id": "2169f75a-31af-4e0e-ab56-72099f62c679",
   "metadata": {},
   "outputs": [
    {
     "name": "stdin",
     "output_type": "stream",
     "text": [
      "Enter a string:  qq\n"
     ]
    }
   ],
   "source": [
    "userInput = str(input(\"Enter a string: \"))"
   ]
  },
  {
   "cell_type": "code",
   "execution_count": 13,
   "id": "07b6f8d1-9bd4-40e9-98d8-80f1bb513515",
   "metadata": {},
   "outputs": [],
   "source": [
    "# Initialize counters\n",
    "uppercase_count = 0\n",
    "lowercase_count = 0\n",
    "digit_count = 0\n",
    "whitespace_count = 0"
   ]
  },
  {
   "cell_type": "code",
   "execution_count": 14,
   "id": "5d4bfea5-5afa-4d07-a82e-939cb84700ab",
   "metadata": {},
   "outputs": [],
   "source": [
    "# Loop through each character in the string\n",
    "for char in user_input:\n",
    "    if char.isupper():\n",
    "        uppercase_count += 1\n",
    "    elif char.islower():\n",
    "        lowercase_count += 1\n",
    "    elif char.isdigit():\n",
    "        digit_count += 1\n",
    "    elif char.isspace():\n",
    "        whitespace_count += 1"
   ]
  },
  {
   "cell_type": "code",
   "execution_count": 15,
   "id": "0bd539a8-78a8-4655-965a-9eabc939dce4",
   "metadata": {},
   "outputs": [
    {
     "name": "stdout",
     "output_type": "stream",
     "text": [
      "Number of uppercase letters: 0\n",
      "Number of lowercase letters: 2\n",
      "Number of digits: 0\n",
      "Number of whitespace characters: 0\n"
     ]
    }
   ],
   "source": [
    "print(\"Number of uppercase letters:\", uppercase_count)\n",
    "print(\"Number of lowercase letters:\", lowercase_count)\n",
    "print(\"Number of digits:\", digit_count)\n",
    "print(\"Number of whitespace characters:\", whitespace_count)"
   ]
  },
  {
   "cell_type": "code",
   "execution_count": null,
   "id": "0bb9fa5a-801c-4821-b420-bf69f9ac6227",
   "metadata": {},
   "outputs": [],
   "source": []
  }
 ],
 "metadata": {
  "kernelspec": {
   "display_name": "Python [conda env:base] *",
   "language": "python",
   "name": "conda-base-py"
  },
  "language_info": {
   "codemirror_mode": {
    "name": "ipython",
    "version": 3
   },
   "file_extension": ".py",
   "mimetype": "text/x-python",
   "name": "python",
   "nbconvert_exporter": "python",
   "pygments_lexer": "ipython3",
   "version": "3.13.5"
  }
 },
 "nbformat": 4,
 "nbformat_minor": 5
}
