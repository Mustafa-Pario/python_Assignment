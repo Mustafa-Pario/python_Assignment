{
 "cells": [
  {
   "cell_type": "markdown",
   "id": "0c04bbb3-c3d4-4ade-9291-98518f126836",
   "metadata": {},
   "source": [
    "1. Write a program that accepts a string from user. Your program should count and display number of vowels in that string."
   ]
  },
  {
   "cell_type": "code",
   "execution_count": 16,
   "id": "8777953e-6976-470f-931a-d577809d6d3c",
   "metadata": {},
   "outputs": [
    {
     "name": "stdin",
     "output_type": "stream",
     "text": [
      "Enter a string:  aeiou\n"
     ]
    }
   ],
   "source": [
    "user_input = str(input(\"Enter a string: \"))"
   ]
  },
  {
   "cell_type": "code",
   "execution_count": 5,
   "id": "d17963d7-d63a-41f4-a1a0-214118ac28f9",
   "metadata": {},
   "outputs": [],
   "source": [
    "vowels = \"aeiouAEIOU\""
   ]
  },
  {
   "cell_type": "code",
   "execution_count": 6,
   "id": "33318bc7-b086-482d-85bd-c10f19e75e91",
   "metadata": {},
   "outputs": [],
   "source": [
    "vowel_count = 0"
   ]
  },
  {
   "cell_type": "code",
   "execution_count": 7,
   "id": "a69d049b-82bb-4ac5-99d1-c22e92f053be",
   "metadata": {},
   "outputs": [],
   "source": [
    "for char in user_input:\n",
    "    if char in vowels:\n",
    "        vowel_count += 1"
   ]
  },
  {
   "cell_type": "code",
   "execution_count": 17,
   "id": "1811368c-0bf5-40a6-9d4e-3558bc61bb0f",
   "metadata": {},
   "outputs": [
    {
     "name": "stdout",
     "output_type": "stream",
     "text": [
      "Number of vowels in the string: 3\n"
     ]
    }
   ],
   "source": [
    "# Display the number of vowels\n",
    "print(\"Number of vowels in the string:\", vowel_count)"
   ]
  },
  {
   "cell_type": "markdown",
   "id": "72d47258-0d9c-41e1-8ff9-2f1cf047101f",
   "metadata": {},
   "source": [
    "2. Write a program that reads a string from keyboard and display: * The number of uppercase letters in the string\n",
    "* The number of lowercase letters in the string\n",
    "* The number of digits in the string\n",
    "* The number of whitespace characters in the string"
   ]
  },
  {
   "cell_type": "code",
   "execution_count": 19,
   "id": "2169f75a-31af-4e0e-ab56-72099f62c679",
   "metadata": {},
   "outputs": [
    {
     "name": "stdin",
     "output_type": "stream",
     "text": [
      "Enter a string:  Ghulam Mustafa\n"
     ]
    }
   ],
   "source": [
    "userInput = str(input(\"Enter a string: \"))"
   ]
  },
  {
   "cell_type": "code",
   "execution_count": 20,
   "id": "07b6f8d1-9bd4-40e9-98d8-80f1bb513515",
   "metadata": {},
   "outputs": [],
   "source": [
    "# Initialize counters\n",
    "uppercase_count = 0\n",
    "lowercase_count = 0\n",
    "digit_count = 0\n",
    "whitespace_count = 0\n",
    "\n",
    "# Loop through each character in the string\n",
    "for char in user_input:\n",
    "    if char.isupper():\n",
    "        uppercase_count += 1\n",
    "    elif char.islower():\n",
    "        lowercase_count += 1\n",
    "    elif char.isdigit():\n",
    "        digit_count += 1\n",
    "    elif char.isspace():\n",
    "        whitespace_count += 1"
   ]
  },
  {
   "cell_type": "code",
   "execution_count": 21,
   "id": "0bd539a8-78a8-4655-965a-9eabc939dce4",
   "metadata": {},
   "outputs": [
    {
     "name": "stdout",
     "output_type": "stream",
     "text": [
      "Number of uppercase letters: 0\n",
      "Number of lowercase letters: 5\n",
      "Number of digits: 0\n",
      "Number of whitespace characters: 0\n"
     ]
    }
   ],
   "source": [
    "print(\"Number of uppercase letters:\", uppercase_count)\n",
    "print(\"Number of lowercase letters:\", lowercase_count)\n",
    "print(\"Number of digits:\", digit_count)\n",
    "print(\"Number of whitespace characters:\", whitespace_count)"
   ]
  },
  {
   "cell_type": "markdown",
   "id": "cf84ab1e-9284-43c4-91c2-07401e5d7600",
   "metadata": {},
   "source": [
    "3. Write a Python program that accepts a string from user. Your program should create and display a new string where the first and last characters have been exchanged."
   ]
  },
  {
   "cell_type": "code",
   "execution_count": 24,
   "id": "ce9c5a52-d233-49ee-8467-6e53a538ec7c",
   "metadata": {},
   "outputs": [
    {
     "name": "stdin",
     "output_type": "stream",
     "text": [
      "Enter a string:  PAkistan\n"
     ]
    }
   ],
   "source": [
    "text = str(input(\"Enter a string: \"))"
   ]
  },
  {
   "cell_type": "code",
   "execution_count": 26,
   "id": "00d1d439-4d50-4a73-9aad-5ea7710ec668",
   "metadata": {},
   "outputs": [
    {
     "name": "stdout",
     "output_type": "stream",
     "text": [
      "New string: nAkistaP\n"
     ]
    }
   ],
   "source": [
    "# Check if the string has less than 2 characters\n",
    "if len(text) < 2:\n",
    "    # If it's too short, we can't swap, so just print the same string\n",
    "    new_text = text\n",
    "else:\n",
    "    # Get the first character\n",
    "    first = text[0]\n",
    "    # Get the last character\n",
    "    last = text[-1]\n",
    "    # Get the middle part (excluding first and last characters)\n",
    "    middle = text[1:-1]\n",
    "    # Create new string with last + middle + first\n",
    "    new_text = last + middle + first\n",
    "\n",
    "# Show the result\n",
    "print(\"New string:\", new_text)\n"
   ]
  },
  {
   "cell_type": "markdown",
   "id": "49fd4b47-4758-498f-a81c-dff10c3b9b51",
   "metadata": {},
   "source": [
    "4. Write a Python program that accepts a string from user. Your program should create a new string in reverse of first string and display it."
   ]
  },
  {
   "cell_type": "code",
   "execution_count": null,
   "id": "f9071607-d89c-4454-8a30-1d3ad231a302",
   "metadata": {},
   "outputs": [],
   "source": []
  }
 ],
 "metadata": {
  "kernelspec": {
   "display_name": "Python [conda env:base] *",
   "language": "python",
   "name": "conda-base-py"
  },
  "language_info": {
   "codemirror_mode": {
    "name": "ipython",
    "version": 3
   },
   "file_extension": ".py",
   "mimetype": "text/x-python",
   "name": "python",
   "nbconvert_exporter": "python",
   "pygments_lexer": "ipython3",
   "version": "3.13.5"
  }
 },
 "nbformat": 4,
 "nbformat_minor": 5
}
